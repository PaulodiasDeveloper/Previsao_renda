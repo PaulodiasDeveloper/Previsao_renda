{
 "cells": [
  {
   "cell_type": "markdown",
   "metadata": {},
   "source": [
    "# Previsão de renda"
   ]
  },
  {
   "cell_type": "markdown",
   "metadata": {},
   "source": [
    "### 4 elementos importantes\n",
    "- Esse notebook\n",
    "- Streamlit com as análises\n",
    "- Seu Github com o projeto\n",
    "- Vídeo no readme do github mostrando o streamlit"
   ]
  },
  {
   "cell_type": "markdown",
   "metadata": {},
   "source": [
    "## Etapa 1 CRISP - DM: Entendimento do negócio\n",
    "\n",
    "Uma instituição financeira quer conhecer melhor o perfil de renda de seus novos clientes para diversos fins, por exemplo, melhor dimensionar o limite de cartões de crédito dos novos clientes, sem necessariamente solicitar olerites ou documentações que impactem na experiência do seu cliente.\n",
    "\n",
    "Para isto, conduziu um estudo com alguns clientes, comprovando suas rendas através de olerites e outros documentos, e pretende construir um modelo preditivo para esta renda com base em algumas variáveis que já possui em seu banco de dados.\n"
   ]
  },
  {
   "cell_type": "markdown",
   "metadata": {},
   "source": [
    "## Etapa 2 Crisp-DM: Entendimento dos dados\n",
    "\n",
    "\n",
    "\n",
    "### Dicionário de dados\n",
    "\n",
    "\n",
    "\n",
    "| Variável                | Descrição                                           | Tipo         |\n",
    "| ----------------------- |:---------------------------------------------------:| ------------:|\n",
    "| data_ref                |  Data de referência                                 | Objeto |\n",
    "| id_cliente              |  Id do cliente                                      | Int |\n",
    "| sexo                    |  Sexo do cliente                                    | Objeto |\n",
    "| posse_de_veiculo        |  Possui veiculo?                                    | Booleano |\n",
    "| posse_de_imovel         |  Possui imovel?                                     | Booleano |\n",
    "| qtd_filhos              |  Quantos filhos?                                    | Int |\n",
    "| tipo_renda              |  Tipo de renda                                      | Objeto |\n",
    "| educacao                |  Escolaridade                                       | Objeto |\n",
    "| estado_civil            |  Estado civil                                       | Objeto |\n",
    "| tipo_residencia         |  Tipo de residência                                 | Objeto |\n",
    "| idade                   |  Idade                                              | Int |\n",
    "| tempo_emprego           |  Tempo de empregabiilidade                          | Float |\n",
    "| qt_pessoas_residencia   |  Quantidade de pessoas na residência                | Float |\n",
    "| renda                   |  Renda                                              | Float |\n",
    "\n",
    "<div style=\"text-align: right\"\n",
    "\n",
    "\n"
   ]
  }
 ],
 "metadata": {
  "language_info": {
   "name": "python"
  }
 },
 "nbformat": 4,
 "nbformat_minor": 2
}
