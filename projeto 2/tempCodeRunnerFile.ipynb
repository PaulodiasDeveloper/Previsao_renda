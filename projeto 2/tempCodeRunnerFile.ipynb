import pandas as pd
import seaborn as sns
import matplotlib.pyplot as plt
from ydata_profiling import ProfileReport